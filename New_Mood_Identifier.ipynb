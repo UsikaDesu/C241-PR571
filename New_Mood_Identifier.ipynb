{
  "cells": [
    {
      "cell_type": "markdown",
      "metadata": {
        "id": "view-in-github",
        "colab_type": "text"
      },
      "source": [
        "<a href=\"https://colab.research.google.com/github/UsikaDesu/Capstone-Project-Mood-Detection/blob/main/New_Mood_Identifier.ipynb\" target=\"_parent\"><img src=\"https://colab.research.google.com/assets/colab-badge.svg\" alt=\"Open In Colab\"/></a>"
      ]
    },
    {
      "cell_type": "code",
      "execution_count": null,
      "metadata": {
        "colab": {
          "base_uri": "https://localhost:8080/"
        },
        "id": "RUVfboQJMJH6",
        "outputId": "ed44af80-60f2-448b-de17-0b87a4d02c9f"
      },
      "outputs": [
        {
          "output_type": "stream",
          "name": "stdout",
          "text": [
            "Drive already mounted at /content/drive; to attempt to forcibly remount, call drive.mount(\"/content/drive\", force_remount=True).\n"
          ]
        }
      ],
      "source": [
        "from google.colab import drive\n",
        "drive.mount('/content/drive')"
      ]
    },
    {
      "cell_type": "code",
      "source": [
        "import zipfile\n",
        "import os\n",
        "\n",
        "# Define the path to the zip file\n",
        "zip_path = '/content/drive/MyDrive/Colab Notebooks/FER-2013.zip'\n",
        "\n",
        "# Define the extraction path\n",
        "extract_path = '/content/extracted_images'\n",
        "\n",
        "# Create the extraction directory if it doesn't exist\n",
        "os.makedirs(extract_path, exist_ok=True)\n",
        "\n",
        "# Extract the zip file\n",
        "with zipfile.ZipFile(zip_path, 'r') as zip_ref:\n",
        "    zip_ref.extractall(extract_path)\n",
        "\n",
        "print('Zip file extracted.')\n"
      ],
      "metadata": {
        "colab": {
          "base_uri": "https://localhost:8080/"
        },
        "id": "i9eObyeXNel1",
        "outputId": "835e1df7-4fd0-470f-ad0c-68784b90b0e4"
      },
      "execution_count": null,
      "outputs": [
        {
          "output_type": "stream",
          "name": "stdout",
          "text": [
            "Zip file extracted.\n"
          ]
        }
      ]
    },
    {
      "cell_type": "code",
      "source": [
        "import numpy as np\n",
        "from PIL import Image"
      ],
      "metadata": {
        "id": "LO9TdSyGNlpm"
      },
      "execution_count": null,
      "outputs": []
    },
    {
      "cell_type": "code",
      "source": [
        "def load_images_from_folder(folder, label_map):\n",
        "    images = []\n",
        "    labels = []\n",
        "    for root, _, files in os.walk(folder):\n",
        "        for file in files:\n",
        "            file_path = os.path.join(root, file)\n",
        "            with Image.open(file_path) as img:\n",
        "                img = img.convert('RGB')  # Ensure image is in RGB format\n",
        "                img_array = np.array(img)\n",
        "                images.append(img_array)\n",
        "\n",
        "            # Extract the label from the folder structure\n",
        "            label_name = os.path.basename(root)\n",
        "            if label_name in label_map:\n",
        "                label = label_map[label_name]\n",
        "                labels.append(label)\n",
        "            else:\n",
        "                print(f\"Warning: {label_name} not in label map.\")\n",
        "\n",
        "    return images, labels\n"
      ],
      "metadata": {
        "id": "SoUE91yXNoAM"
      },
      "execution_count": null,
      "outputs": []
    },
    {
      "cell_type": "code",
      "source": [
        "# Define the label map (assuming you have 7 labels)\n",
        "label_map = {\n",
        "    'angry': 0,\n",
        "    'disgust': 1,\n",
        "    'fear': 2,\n",
        "    'happy': 3,\n",
        "    'neutral': 4,\n",
        "    'sad': 5,\n",
        "    'surprise': 6\n",
        "}\n",
        "\n",
        "# Load images and labels\n",
        "image_dir = extract_path + '/train'\n",
        "images, labels = load_images_from_folder(image_dir, label_map)\n",
        "\n",
        "# Convert lists to numpy arrays\n",
        "images = np.array(images)\n",
        "labels = np.array(labels)\n",
        "\n",
        "# Save the numpy arrays to .npy files\n",
        "np.save('/content/drive/My Drive/images.npy', images)\n",
        "np.save('/content/drive/My Drive/labels.npy', labels)\n",
        "\n",
        "print('Images and labels saved to .npy files.')"
      ],
      "metadata": {
        "colab": {
          "base_uri": "https://localhost:8080/"
        },
        "id": "L57SV5N1NrLo",
        "outputId": "24b335cc-7c51-45eb-d701-52dff8b1c8c6"
      },
      "execution_count": null,
      "outputs": [
        {
          "output_type": "stream",
          "name": "stdout",
          "text": [
            "Images and labels saved to .npy files.\n"
          ]
        }
      ]
    },
    {
      "cell_type": "code",
      "execution_count": null,
      "metadata": {
        "id": "-vq7tdx0wkvV"
      },
      "outputs": [],
      "source": [
        "import tensorflow as tf\n",
        "import matplotlib.pyplot as plt\n",
        "import cv2\n",
        "from tensorflow import keras\n",
        "from keras import layers\n",
        "from keras.models import load_model\n",
        "from tensorflow.keras.callbacks import ModelCheckpoint\n",
        "from skimage.transform import resize\n",
        "\n",
        "import h5py"
      ]
    },
    {
      "cell_type": "code",
      "execution_count": null,
      "metadata": {
        "id": "6aFWvZNmxgWa"
      },
      "outputs": [],
      "source": [
        "image=np.load('/content/drive/MyDrive/images.npy')"
      ]
    },
    {
      "cell_type": "code",
      "execution_count": null,
      "metadata": {
        "id": "YPOk9EStyXH2"
      },
      "outputs": [],
      "source": [
        "labels=np.load('/content/drive/MyDrive/labels.npy')"
      ]
    },
    {
      "cell_type": "code",
      "execution_count": null,
      "metadata": {
        "id": "soxBDnQjnt7Q",
        "colab": {
          "base_uri": "https://localhost:8080/"
        },
        "outputId": "34aace45-dd9d-4a76-d4a6-f7034b1fdc00"
      },
      "outputs": [
        {
          "output_type": "stream",
          "name": "stderr",
          "text": [
            "WARNING:absl:`lr` is deprecated in Keras optimizer, please use `learning_rate` or use the legacy optimizer, e.g.,tf.keras.optimizers.legacy.Adam.\n"
          ]
        }
      ],
      "source": [
        "from keras.layers import Input, Conv2D, MaxPooling2D, Flatten, Dense, Dropout\n",
        "from keras.models import Model\n",
        "from keras.optimizers import Adam\n",
        "\n",
        "# Model parameters\n",
        "num_classes = 7\n",
        "input_shape = (48,48,3)\n",
        "\n",
        "# Define the model architecture\n",
        "input_layer = Input(shape=input_shape)\n",
        "\n",
        "x = Conv2D(32, (3,3), activation='relu', padding='same')(input_layer)\n",
        "x = MaxPooling2D((2,2), padding='same')(x)\n",
        "\n",
        "x = Conv2D(64, (3,3), activation='relu', padding='same')(x)\n",
        "x = MaxPooling2D((2,2), padding='same')(x)\n",
        "\n",
        "x = Conv2D(128, (3,3), activation='relu', padding='same')(x)\n",
        "x = MaxPooling2D((2,2), padding='same')(x)\n",
        "\n",
        "x = Flatten()(x)\n",
        "\n",
        "x = Dense(512, activation='relu')(x)\n",
        "x = Dropout(0.5)(x)\n",
        "\n",
        "x = Dense(256, activation='relu')(x)\n",
        "x = Dropout(0.5)(x)\n",
        "\n",
        "output_layer = Dense(num_classes, activation='softmax')(x)\n",
        "\n",
        "# Compile the model\n",
        "model = Model(inputs=input_layer, outputs=output_layer)\n",
        "model.compile(loss='sparse_categorical_crossentropy', optimizer=Adam(lr=0.0009), metrics=['accuracy'])\n"
      ]
    },
    {
      "cell_type": "code",
      "execution_count": null,
      "metadata": {
        "id": "XMguUZVYGFyC",
        "colab": {
          "base_uri": "https://localhost:8080/",
          "height": 449
        },
        "outputId": "844ebe68-06ab-4805-d0e1-8109b9e0c42b"
      },
      "outputs": [
        {
          "output_type": "execute_result",
          "data": {
            "text/plain": [
              "6"
            ]
          },
          "metadata": {},
          "execution_count": 16
        },
        {
          "output_type": "display_data",
          "data": {
            "text/plain": [
              "<Figure size 640x480 with 1 Axes>"
            ],
            "image/png": "[encoded data removed]"
          },
          "metadata": {}
        }
      ],
      "source": [
        "plt.imshow(image[5])\n",
        "labels[5]"
      ]
    },
    {
      "cell_type": "code",
      "source": [
        "from sklearn.model_selection import train_test_split\n",
        "# Load your existing images.npy as your data\n",
        "data = np.load('/content/drive/MyDrive/images.npy')\n",
        "\n",
        "# Load your existing labels.npy as your labels\n",
        "labels = np.load('/content/drive/MyDrive/labels.npy')\n",
        "\n",
        "# Split data into training and validation sets\n",
        "x_train, x_val, y_train, y_val = train_test_split(data, labels, test_size=0.2, random_state=42)\n",
        "\n",
        "# Optionally, you can print the shapes to verify\n",
        "print(f'Training data shape: {x_train.shape}')\n",
        "print(f'Training labels shape: {y_train.shape}')\n",
        "print(f'Validation data shape: {x_val.shape}')\n",
        "print(f'Validation labels shape: {y_val.shape}')\n",
        "\n",
        "# Save the validation data and labels as .npy files\n",
        "np.save('/content/drive/My Drive/x_val.npy', x_val)\n",
        "np.save('/content/drive/My Drive/y_val.npy', y_val)\n",
        "\n",
        "print('Validation data and labels saved as .npy files.')"
      ],
      "metadata": {
        "colab": {
          "base_uri": "https://localhost:8080/"
        },
        "id": "TGTTOUgJQoJt",
        "outputId": "b6af99ad-68f2-4f1d-d946-664041b0be5c"
      },
      "execution_count": null,
      "outputs": [
        {
          "output_type": "stream",
          "name": "stdout",
          "text": [
            "Training data shape: (22967, 48, 48, 3)\n",
            "Training labels shape: (22967,)\n",
            "Validation data shape: (5742, 48, 48, 3)\n",
            "Validation labels shape: (5742,)\n",
            "Validation data and labels saved as .npy files.\n"
          ]
        }
      ]
    },
    {
      "cell_type": "code",
      "execution_count": null,
      "metadata": {
        "id": "HWpUIZeU1HFB"
      },
      "outputs": [],
      "source": [
        "x_val=np.load('/content/drive/MyDrive/x_val.npy')"
      ]
    },
    {
      "cell_type": "code",
      "execution_count": null,
      "metadata": {
        "id": "86iZR4-L1OGx"
      },
      "outputs": [],
      "source": [
        "y_val=np.load('/content/drive/MyDrive/y_val.npy')"
      ]
    },
    {
      "cell_type": "code",
      "execution_count": null,
      "metadata": {
        "id": "vZ5f2Jcy1TZd",
        "colab": {
          "base_uri": "https://localhost:8080/",
          "height": 449
        },
        "outputId": "03d78e62-6695-469d-d61c-8c70f446125a"
      },
      "outputs": [
        {
          "output_type": "execute_result",
          "data": {
            "text/plain": [
              "0"
            ]
          },
          "metadata": {},
          "execution_count": 21
        },
        {
          "output_type": "display_data",
          "data": {
            "text/plain": [
              "<Figure size 640x480 with 1 Axes>"
            ],
            "image/png": "[encoded data removed]"
          },
          "metadata": {}
        }
      ],
      "source": [
        "plt.imshow(x_val[15])\n",
        "y_val[15]"
      ]
    },
    {
      "cell_type": "code",
      "execution_count": null,
      "metadata": {
        "id": "M30rqI5B6TsK"
      },
      "outputs": [],
      "source": [
        "from keras.callbacks import EarlyStopping\n",
        "\n",
        "early_stopping = EarlyStopping(monitor='val_accuracy', mode='max', patience=25, verbose=1, restore_best_weights=True, min_delta=0.01,\n",
        "                              baseline=0.6)"
      ]
    },
    {
      "cell_type": "code",
      "execution_count": null,
      "metadata": {
        "id": "ejFOg-vOyxRG",
        "colab": {
          "base_uri": "https://localhost:8080/"
        },
        "outputId": "f0f7f920-dae6-4447-cb2e-73d9f5940422"
      },
      "outputs": [
        {
          "output_type": "stream",
          "name": "stdout",
          "text": [
            "Epoch 1/25\n",
            "96/96 [==============================] - 10s 34ms/step - loss: 3.9360 - accuracy: 0.2248 - val_loss: 1.7737 - val_accuracy: 0.2835\n",
            "Epoch 2/25\n",
            "96/96 [==============================] - 2s 22ms/step - loss: 1.7883 - accuracy: 0.2642 - val_loss: 1.7381 - val_accuracy: 0.3023\n",
            "Epoch 3/25\n",
            "96/96 [==============================] - 2s 23ms/step - loss: 1.7431 - accuracy: 0.2935 - val_loss: 1.6735 - val_accuracy: 0.3325\n",
            "Epoch 4/25\n",
            "96/96 [==============================] - 2s 26ms/step - loss: 1.6907 - accuracy: 0.3292 - val_loss: 1.6122 - val_accuracy: 0.3758\n",
            "Epoch 5/25\n",
            "96/96 [==============================] - 2s 23ms/step - loss: 1.6324 - accuracy: 0.3619 - val_loss: 1.5598 - val_accuracy: 0.4049\n",
            "Epoch 6/25\n",
            "96/96 [==============================] - 2s 23ms/step - loss: 1.5904 - accuracy: 0.3866 - val_loss: 1.5090 - val_accuracy: 0.4228\n",
            "Epoch 7/25\n",
            "96/96 [==============================] - 2s 22ms/step - loss: 1.5554 - accuracy: 0.4000 - val_loss: 1.4934 - val_accuracy: 0.4277\n",
            "Epoch 8/25\n",
            "96/96 [==============================] - 2s 22ms/step - loss: 1.5095 - accuracy: 0.4181 - val_loss: 1.4131 - val_accuracy: 0.4655\n",
            "Epoch 9/25\n",
            "96/96 [==============================] - 2s 23ms/step - loss: 1.4702 - accuracy: 0.4338 - val_loss: 1.3484 - val_accuracy: 0.4974\n",
            "Epoch 10/25\n",
            "96/96 [==============================] - 3s 26ms/step - loss: 1.4304 - accuracy: 0.4523 - val_loss: 1.3043 - val_accuracy: 0.5026\n",
            "Epoch 11/25\n",
            "96/96 [==============================] - 2s 23ms/step - loss: 1.3798 - accuracy: 0.4720 - val_loss: 1.2434 - val_accuracy: 0.5352\n",
            "Epoch 12/25\n",
            "96/96 [==============================] - 2s 22ms/step - loss: 1.3276 - accuracy: 0.4929 - val_loss: 1.1843 - val_accuracy: 0.5625\n",
            "Epoch 13/25\n",
            "96/96 [==============================] - 2s 22ms/step - loss: 1.2818 - accuracy: 0.5152 - val_loss: 1.1230 - val_accuracy: 0.5953\n",
            "Epoch 14/25\n",
            "96/96 [==============================] - 2s 22ms/step - loss: 1.2295 - accuracy: 0.5406 - val_loss: 1.0692 - val_accuracy: 0.6237\n",
            "Epoch 15/25\n",
            "96/96 [==============================] - 2s 23ms/step - loss: 1.1714 - accuracy: 0.5608 - val_loss: 1.0281 - val_accuracy: 0.6372\n",
            "Epoch 16/25\n",
            "96/96 [==============================] - 2s 24ms/step - loss: 1.1355 - accuracy: 0.5693 - val_loss: 0.9172 - val_accuracy: 0.6797\n",
            "Epoch 17/25\n",
            "96/96 [==============================] - 2s 25ms/step - loss: 1.0769 - accuracy: 0.5964 - val_loss: 0.8759 - val_accuracy: 0.7083\n",
            "Epoch 18/25\n",
            "96/96 [==============================] - 2s 23ms/step - loss: 1.0189 - accuracy: 0.6193 - val_loss: 0.8587 - val_accuracy: 0.7109\n",
            "Epoch 19/25\n",
            "96/96 [==============================] - 2s 23ms/step - loss: 0.9570 - accuracy: 0.6462 - val_loss: 0.7148 - val_accuracy: 0.7692\n",
            "Epoch 20/25\n",
            "96/96 [==============================] - 2s 23ms/step - loss: 0.9043 - accuracy: 0.6678 - val_loss: 0.6988 - val_accuracy: 0.7661\n",
            "Epoch 21/25\n",
            "96/96 [==============================] - 2s 23ms/step - loss: 0.8603 - accuracy: 0.6874 - val_loss: 0.6286 - val_accuracy: 0.8058\n",
            "Epoch 22/25\n",
            "96/96 [==============================] - 2s 26ms/step - loss: 0.7942 - accuracy: 0.7117 - val_loss: 0.5529 - val_accuracy: 0.8332\n",
            "Epoch 23/25\n",
            "96/96 [==============================] - 2s 25ms/step - loss: 0.7653 - accuracy: 0.7236 - val_loss: 0.4882 - val_accuracy: 0.8544\n",
            "Epoch 24/25\n",
            "96/96 [==============================] - 2s 23ms/step - loss: 0.6874 - accuracy: 0.7488 - val_loss: 0.4282 - val_accuracy: 0.8767\n",
            "Epoch 25/25\n",
            "96/96 [==============================] - 2s 23ms/step - loss: 0.6481 - accuracy: 0.7680 - val_loss: 0.3964 - val_accuracy: 0.8912\n"
          ]
        },
        {
          "output_type": "execute_result",
          "data": {
            "text/plain": [
              "<keras.src.callbacks.History at 0x79d6e39ee890>"
            ]
          },
          "metadata": {},
          "execution_count": 24
        }
      ],
      "source": [
        "model.fit(image, labels, epochs=25, batch_size=300, validation_data=(x_val,y_val), callbacks=[early_stopping])"
      ]
    },
    {
      "cell_type": "code",
      "execution_count": null,
      "metadata": {
        "id": "14Rz-yJXyz1N",
        "colab": {
          "base_uri": "https://localhost:8080/"
        },
        "outputId": "1fdecbc1-060c-4f2f-fb52-9ff100fd4827"
      },
      "outputs": [
        {
          "output_type": "stream",
          "name": "stderr",
          "text": [
            "/usr/local/lib/python3.10/dist-packages/keras/src/engine/training.py:3103: UserWarning: You are saving your model as an HDF5 file via `model.save()`. This file format is considered legacy. We recommend using instead the native Keras format, e.g. `model.save('my_model.keras')`.\n",
            "  saving_api.save_model(\n"
          ]
        }
      ],
      "source": [
        "model.save('MyModelFaceRecogD3.h5')"
      ]
    }
  ],
  "metadata": {
    "colab": {
      "provenance": [],
      "include_colab_link": true
    },
    "kernelspec": {
      "display_name": "Python 3",
      "language": "python",
      "name": "python3"
    },
    "language_info": {
      "codemirror_mode": {
        "name": "ipython",
        "version": 3
      },
      "file_extension": ".py",
      "mimetype": "text/x-python",
      "name": "python",
      "nbconvert_exporter": "python",
      "pygments_lexer": "ipython3",
      "version": "3.7.12"
    }
  },
  "nbformat": 4,
  "nbformat_minor": 0
}